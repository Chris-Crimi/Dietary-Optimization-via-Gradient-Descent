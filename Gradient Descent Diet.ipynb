{
 "cells": [
  {
   "cell_type": "code",
   "execution_count": 1,
   "metadata": {},
   "outputs": [],
   "source": [
    "import pandas as pd"
   ]
  },
  {
   "cell_type": "code",
   "execution_count": 9,
   "metadata": {},
   "outputs": [
    {
     "data": {
      "text/html": [
       "<div>\n",
       "<style scoped>\n",
       "    .dataframe tbody tr th:only-of-type {\n",
       "        vertical-align: middle;\n",
       "    }\n",
       "\n",
       "    .dataframe tbody tr th {\n",
       "        vertical-align: top;\n",
       "    }\n",
       "\n",
       "    .dataframe thead th {\n",
       "        text-align: right;\n",
       "    }\n",
       "</style>\n",
       "<table border=\"1\" class=\"dataframe\">\n",
       "  <thead>\n",
       "    <tr style=\"text-align: right;\">\n",
       "      <th></th>\n",
       "      <th>Food code</th>\n",
       "      <th>Main food description</th>\n",
       "      <th>WWEIA Category number</th>\n",
       "      <th>WWEIA Category description</th>\n",
       "      <th>Energy (kcal)</th>\n",
       "      <th>Protein (g)</th>\n",
       "      <th>Carbohydrate (g)</th>\n",
       "      <th>Sugars, total\\n(g)</th>\n",
       "      <th>Fiber, total dietary (g)</th>\n",
       "      <th>Total Fat (g)</th>\n",
       "      <th>...</th>\n",
       "      <th>20:1\\n(g)</th>\n",
       "      <th>22:1\\n(g)</th>\n",
       "      <th>18:2\\n(g)</th>\n",
       "      <th>18:3\\n(g)</th>\n",
       "      <th>18:4\\n(g)</th>\n",
       "      <th>20:4\\n(g)</th>\n",
       "      <th>20:5 n-3\\n(g)</th>\n",
       "      <th>22:5 n-3\\n(g)</th>\n",
       "      <th>22:6 n-3\\n(g)</th>\n",
       "      <th>Water\\n(g)</th>\n",
       "    </tr>\n",
       "  </thead>\n",
       "  <tbody>\n",
       "    <tr>\n",
       "      <th>0</th>\n",
       "      <td>11000000</td>\n",
       "      <td>Milk, human</td>\n",
       "      <td>9602</td>\n",
       "      <td>Human milk</td>\n",
       "      <td>70</td>\n",
       "      <td>1.03</td>\n",
       "      <td>6.89</td>\n",
       "      <td>6.89</td>\n",
       "      <td>0.0</td>\n",
       "      <td>4.38</td>\n",
       "      <td>...</td>\n",
       "      <td>0.040</td>\n",
       "      <td>0.000</td>\n",
       "      <td>0.374</td>\n",
       "      <td>0.052</td>\n",
       "      <td>0.0</td>\n",
       "      <td>0.026</td>\n",
       "      <td>0.000</td>\n",
       "      <td>0.000</td>\n",
       "      <td>0.000</td>\n",
       "      <td>87.50</td>\n",
       "    </tr>\n",
       "    <tr>\n",
       "      <th>1</th>\n",
       "      <td>11100000</td>\n",
       "      <td>Milk, NFS</td>\n",
       "      <td>1004</td>\n",
       "      <td>Milk, reduced fat</td>\n",
       "      <td>52</td>\n",
       "      <td>3.33</td>\n",
       "      <td>4.83</td>\n",
       "      <td>4.88</td>\n",
       "      <td>0.0</td>\n",
       "      <td>2.14</td>\n",
       "      <td>...</td>\n",
       "      <td>0.002</td>\n",
       "      <td>0.000</td>\n",
       "      <td>0.074</td>\n",
       "      <td>0.008</td>\n",
       "      <td>0.0</td>\n",
       "      <td>0.003</td>\n",
       "      <td>0.000</td>\n",
       "      <td>0.001</td>\n",
       "      <td>0.000</td>\n",
       "      <td>88.92</td>\n",
       "    </tr>\n",
       "    <tr>\n",
       "      <th>2</th>\n",
       "      <td>11111000</td>\n",
       "      <td>Milk, whole</td>\n",
       "      <td>1002</td>\n",
       "      <td>Milk, whole</td>\n",
       "      <td>61</td>\n",
       "      <td>3.27</td>\n",
       "      <td>4.63</td>\n",
       "      <td>4.81</td>\n",
       "      <td>0.0</td>\n",
       "      <td>3.20</td>\n",
       "      <td>...</td>\n",
       "      <td>0.004</td>\n",
       "      <td>0.000</td>\n",
       "      <td>0.115</td>\n",
       "      <td>0.013</td>\n",
       "      <td>0.0</td>\n",
       "      <td>0.004</td>\n",
       "      <td>0.001</td>\n",
       "      <td>0.002</td>\n",
       "      <td>0.000</td>\n",
       "      <td>88.10</td>\n",
       "    </tr>\n",
       "    <tr>\n",
       "      <th>3</th>\n",
       "      <td>11112110</td>\n",
       "      <td>Milk, reduced fat (2%)</td>\n",
       "      <td>1004</td>\n",
       "      <td>Milk, reduced fat</td>\n",
       "      <td>50</td>\n",
       "      <td>3.36</td>\n",
       "      <td>4.90</td>\n",
       "      <td>4.89</td>\n",
       "      <td>0.0</td>\n",
       "      <td>1.90</td>\n",
       "      <td>...</td>\n",
       "      <td>0.002</td>\n",
       "      <td>0.000</td>\n",
       "      <td>0.061</td>\n",
       "      <td>0.007</td>\n",
       "      <td>0.0</td>\n",
       "      <td>0.003</td>\n",
       "      <td>0.000</td>\n",
       "      <td>0.001</td>\n",
       "      <td>0.000</td>\n",
       "      <td>89.10</td>\n",
       "    </tr>\n",
       "    <tr>\n",
       "      <th>4</th>\n",
       "      <td>11112210</td>\n",
       "      <td>Milk, low fat (1%)</td>\n",
       "      <td>1006</td>\n",
       "      <td>Milk, lowfat</td>\n",
       "      <td>43</td>\n",
       "      <td>3.38</td>\n",
       "      <td>5.18</td>\n",
       "      <td>4.96</td>\n",
       "      <td>0.0</td>\n",
       "      <td>0.95</td>\n",
       "      <td>...</td>\n",
       "      <td>0.001</td>\n",
       "      <td>0.000</td>\n",
       "      <td>0.033</td>\n",
       "      <td>0.004</td>\n",
       "      <td>0.0</td>\n",
       "      <td>0.001</td>\n",
       "      <td>0.000</td>\n",
       "      <td>0.000</td>\n",
       "      <td>0.000</td>\n",
       "      <td>89.70</td>\n",
       "    </tr>\n",
       "    <tr>\n",
       "      <th>...</th>\n",
       "      <td>...</td>\n",
       "      <td>...</td>\n",
       "      <td>...</td>\n",
       "      <td>...</td>\n",
       "      <td>...</td>\n",
       "      <td>...</td>\n",
       "      <td>...</td>\n",
       "      <td>...</td>\n",
       "      <td>...</td>\n",
       "      <td>...</td>\n",
       "      <td>...</td>\n",
       "      <td>...</td>\n",
       "      <td>...</td>\n",
       "      <td>...</td>\n",
       "      <td>...</td>\n",
       "      <td>...</td>\n",
       "      <td>...</td>\n",
       "      <td>...</td>\n",
       "      <td>...</td>\n",
       "      <td>...</td>\n",
       "      <td>...</td>\n",
       "    </tr>\n",
       "    <tr>\n",
       "      <th>5619</th>\n",
       "      <td>99997802</td>\n",
       "      <td>Tomatoes as ingredient in omelet</td>\n",
       "      <td>9999</td>\n",
       "      <td>Not included in a food category</td>\n",
       "      <td>25</td>\n",
       "      <td>1.11</td>\n",
       "      <td>5.48</td>\n",
       "      <td>3.42</td>\n",
       "      <td>1.6</td>\n",
       "      <td>0.23</td>\n",
       "      <td>...</td>\n",
       "      <td>0.000</td>\n",
       "      <td>0.000</td>\n",
       "      <td>0.089</td>\n",
       "      <td>0.004</td>\n",
       "      <td>0.0</td>\n",
       "      <td>0.000</td>\n",
       "      <td>0.000</td>\n",
       "      <td>0.000</td>\n",
       "      <td>0.000</td>\n",
       "      <td>92.57</td>\n",
       "    </tr>\n",
       "    <tr>\n",
       "      <th>5620</th>\n",
       "      <td>99997804</td>\n",
       "      <td>Other vegetables as ingredient in omelet</td>\n",
       "      <td>9999</td>\n",
       "      <td>Not included in a food category</td>\n",
       "      <td>39</td>\n",
       "      <td>3.25</td>\n",
       "      <td>5.74</td>\n",
       "      <td>2.73</td>\n",
       "      <td>1.4</td>\n",
       "      <td>0.39</td>\n",
       "      <td>...</td>\n",
       "      <td>0.000</td>\n",
       "      <td>0.000</td>\n",
       "      <td>0.174</td>\n",
       "      <td>0.001</td>\n",
       "      <td>0.0</td>\n",
       "      <td>0.000</td>\n",
       "      <td>0.000</td>\n",
       "      <td>0.000</td>\n",
       "      <td>0.000</td>\n",
       "      <td>89.67</td>\n",
       "    </tr>\n",
       "    <tr>\n",
       "      <th>5621</th>\n",
       "      <td>99997810</td>\n",
       "      <td>Vegetables as ingredient in curry</td>\n",
       "      <td>9999</td>\n",
       "      <td>Not included in a food category</td>\n",
       "      <td>52</td>\n",
       "      <td>1.81</td>\n",
       "      <td>11.60</td>\n",
       "      <td>3.25</td>\n",
       "      <td>2.2</td>\n",
       "      <td>0.19</td>\n",
       "      <td>...</td>\n",
       "      <td>0.000</td>\n",
       "      <td>0.000</td>\n",
       "      <td>0.052</td>\n",
       "      <td>0.012</td>\n",
       "      <td>0.0</td>\n",
       "      <td>0.000</td>\n",
       "      <td>0.000</td>\n",
       "      <td>0.000</td>\n",
       "      <td>0.000</td>\n",
       "      <td>85.59</td>\n",
       "    </tr>\n",
       "    <tr>\n",
       "      <th>5622</th>\n",
       "      <td>99998130</td>\n",
       "      <td>Sauce as ingredient in hamburgers</td>\n",
       "      <td>9999</td>\n",
       "      <td>Not included in a food category</td>\n",
       "      <td>272</td>\n",
       "      <td>1.34</td>\n",
       "      <td>17.14</td>\n",
       "      <td>13.08</td>\n",
       "      <td>0.6</td>\n",
       "      <td>22.85</td>\n",
       "      <td>...</td>\n",
       "      <td>0.106</td>\n",
       "      <td>0.133</td>\n",
       "      <td>11.810</td>\n",
       "      <td>1.682</td>\n",
       "      <td>0.0</td>\n",
       "      <td>0.015</td>\n",
       "      <td>0.000</td>\n",
       "      <td>0.000</td>\n",
       "      <td>0.002</td>\n",
       "      <td>55.97</td>\n",
       "    </tr>\n",
       "    <tr>\n",
       "      <th>5623</th>\n",
       "      <td>99998210</td>\n",
       "      <td>Industrial oil as ingredient in food</td>\n",
       "      <td>9999</td>\n",
       "      <td>Not included in a food category</td>\n",
       "      <td>892</td>\n",
       "      <td>0.00</td>\n",
       "      <td>0.00</td>\n",
       "      <td>0.00</td>\n",
       "      <td>0.0</td>\n",
       "      <td>100.00</td>\n",
       "      <td>...</td>\n",
       "      <td>0.322</td>\n",
       "      <td>0.024</td>\n",
       "      <td>30.114</td>\n",
       "      <td>1.698</td>\n",
       "      <td>0.0</td>\n",
       "      <td>0.000</td>\n",
       "      <td>0.000</td>\n",
       "      <td>0.000</td>\n",
       "      <td>0.000</td>\n",
       "      <td>0.00</td>\n",
       "    </tr>\n",
       "  </tbody>\n",
       "</table>\n",
       "<p>5624 rows × 69 columns</p>\n",
       "</div>"
      ],
      "text/plain": [
       "      Food code                     Main food description  \\\n",
       "0      11000000                               Milk, human   \n",
       "1      11100000                                 Milk, NFS   \n",
       "2      11111000                               Milk, whole   \n",
       "3      11112110                    Milk, reduced fat (2%)   \n",
       "4      11112210                        Milk, low fat (1%)   \n",
       "...         ...                                       ...   \n",
       "5619   99997802          Tomatoes as ingredient in omelet   \n",
       "5620   99997804  Other vegetables as ingredient in omelet   \n",
       "5621   99997810         Vegetables as ingredient in curry   \n",
       "5622   99998130         Sauce as ingredient in hamburgers   \n",
       "5623   99998210      Industrial oil as ingredient in food   \n",
       "\n",
       "      WWEIA Category number       WWEIA Category description  Energy (kcal)  \\\n",
       "0                      9602                       Human milk             70   \n",
       "1                      1004                Milk, reduced fat             52   \n",
       "2                      1002                      Milk, whole             61   \n",
       "3                      1004                Milk, reduced fat             50   \n",
       "4                      1006                     Milk, lowfat             43   \n",
       "...                     ...                              ...            ...   \n",
       "5619                   9999  Not included in a food category             25   \n",
       "5620                   9999  Not included in a food category             39   \n",
       "5621                   9999  Not included in a food category             52   \n",
       "5622                   9999  Not included in a food category            272   \n",
       "5623                   9999  Not included in a food category            892   \n",
       "\n",
       "      Protein (g)  Carbohydrate (g)  Sugars, total\\n(g)  \\\n",
       "0            1.03              6.89                6.89   \n",
       "1            3.33              4.83                4.88   \n",
       "2            3.27              4.63                4.81   \n",
       "3            3.36              4.90                4.89   \n",
       "4            3.38              5.18                4.96   \n",
       "...           ...               ...                 ...   \n",
       "5619         1.11              5.48                3.42   \n",
       "5620         3.25              5.74                2.73   \n",
       "5621         1.81             11.60                3.25   \n",
       "5622         1.34             17.14               13.08   \n",
       "5623         0.00              0.00                0.00   \n",
       "\n",
       "      Fiber, total dietary (g)  Total Fat (g)  ...  20:1\\n(g)  22:1\\n(g)  \\\n",
       "0                          0.0           4.38  ...      0.040      0.000   \n",
       "1                          0.0           2.14  ...      0.002      0.000   \n",
       "2                          0.0           3.20  ...      0.004      0.000   \n",
       "3                          0.0           1.90  ...      0.002      0.000   \n",
       "4                          0.0           0.95  ...      0.001      0.000   \n",
       "...                        ...            ...  ...        ...        ...   \n",
       "5619                       1.6           0.23  ...      0.000      0.000   \n",
       "5620                       1.4           0.39  ...      0.000      0.000   \n",
       "5621                       2.2           0.19  ...      0.000      0.000   \n",
       "5622                       0.6          22.85  ...      0.106      0.133   \n",
       "5623                       0.0         100.00  ...      0.322      0.024   \n",
       "\n",
       "      18:2\\n(g)  18:3\\n(g)  18:4\\n(g)  20:4\\n(g)  20:5 n-3\\n(g)  \\\n",
       "0         0.374      0.052        0.0      0.026          0.000   \n",
       "1         0.074      0.008        0.0      0.003          0.000   \n",
       "2         0.115      0.013        0.0      0.004          0.001   \n",
       "3         0.061      0.007        0.0      0.003          0.000   \n",
       "4         0.033      0.004        0.0      0.001          0.000   \n",
       "...         ...        ...        ...        ...            ...   \n",
       "5619      0.089      0.004        0.0      0.000          0.000   \n",
       "5620      0.174      0.001        0.0      0.000          0.000   \n",
       "5621      0.052      0.012        0.0      0.000          0.000   \n",
       "5622     11.810      1.682        0.0      0.015          0.000   \n",
       "5623     30.114      1.698        0.0      0.000          0.000   \n",
       "\n",
       "      22:5 n-3\\n(g)  22:6 n-3\\n(g)  Water\\n(g)  \n",
       "0             0.000          0.000       87.50  \n",
       "1             0.001          0.000       88.92  \n",
       "2             0.002          0.000       88.10  \n",
       "3             0.001          0.000       89.10  \n",
       "4             0.000          0.000       89.70  \n",
       "...             ...            ...         ...  \n",
       "5619          0.000          0.000       92.57  \n",
       "5620          0.000          0.000       89.67  \n",
       "5621          0.000          0.000       85.59  \n",
       "5622          0.000          0.002       55.97  \n",
       "5623          0.000          0.000        0.00  \n",
       "\n",
       "[5624 rows x 69 columns]"
      ]
     },
     "execution_count": 9,
     "metadata": {},
     "output_type": "execute_result"
    }
   ],
   "source": [
    "#Load USDA database & transform it into the form we need\n",
    "food_database = pd.read_excel(\"2019-2020 FNDDS At A Glance - FNDDS Nutrient Values.xlsx\", \n",
    "                              header = 1 #set column headers\n",
    "                              )\n"
   ]
  },
  {
   "cell_type": "markdown",
   "metadata": {},
   "source": [
    "Current thought:\n",
    "- amount of foods are inputs\n",
    "- quality rates are weights (e.g., amount of calories per 100gs)"
   ]
  },
  {
   "cell_type": "code",
   "execution_count": 37,
   "metadata": {},
   "outputs": [
    {
     "name": "stdout",
     "output_type": "stream",
     "text": [
      "[[2.27147371 3.43186411]]\n",
      "[[ 5.70333513 11.40667026  7.9994605 ]]\n",
      "[[4.94680305e-01 1.97872122e+00 2.91059849e-07]]\n"
     ]
    }
   ],
   "source": [
    "#very basic prototype optimization algorithm\n",
    "\n",
    "import numpy as np\n",
    "import matplotlib.pyplot as plt\n",
    "\n",
    "#intialzie amounts\n",
    "amounts = np.array([[1.0,1.0]])\n",
    "\n",
    "#rows represent food, cols represent qualities\n",
    "quality_rates = np.array([[1,2,.5],\n",
    "                          [1,2,2]])\n",
    "\n",
    "learning_rate = .001\n",
    "\n",
    "#goal amounts\n",
    "targets = [5,10,8]\n",
    "\n",
    "outputs, errors, amountss = [], [], []\n",
    "\n",
    "stop_time = 1000\n",
    "for i in range(stop_time):\n",
    "    output = np.dot(amounts, quality_rates)\n",
    "    outputs.append(output)\n",
    "    #squared error is the loss function\n",
    "    error = (output - targets)**2\n",
    "    errors.append(error)\n",
    "    #derivative of loss wrt to output\n",
    "    dloss = 2*(output - targets)\n",
    "    #print(dloss)\n",
    "\n",
    "    dmax = targets.copy\n",
    "    dmax = np.ones_like(output)\n",
    "    dmax[output >= targets] = 0 \n",
    "    #print(dmax)\n",
    "\n",
    "    dfoods = dloss * dmax\n",
    "    #print(dfoods)\n",
    "\n",
    "    #deriv wrt amounts is quality rate\n",
    "    dinputs = np.dot(dfoods, quality_rates.T)\n",
    "    #print(dinputs)\n",
    "\n",
    "    amounts += -learning_rate * dinputs\n",
    "    amountss.append(amounts)\n",
    "\n",
    "\n",
    "print(amounts)\n",
    "print(output)\n",
    "print(error)"
   ]
  },
  {
   "cell_type": "markdown",
   "metadata": {},
   "source": [
    "How to fully implement for food\n",
    "- we are going to minimize cost, while trying to meet thresholds for other items"
   ]
  },
  {
   "cell_type": "code",
   "execution_count": 22,
   "metadata": {},
   "outputs": [],
   "source": [
    "import pandas as pd\n",
    "import numpy as np\n",
    "import matplotlib.pyplot as plt\n",
    "\n",
    "\n",
    "food_data = pd.read_excel(r\"C:\\Users\\Chris\\Desktop\\Diet Data\\Diet Optimization.xlsx\", sheet_name=\"For Python Test\")"
   ]
  },
  {
   "cell_type": "code",
   "execution_count": 23,
   "metadata": {},
   "outputs": [],
   "source": [
    "quality_rates = food_data.iloc[0:20,6:].to_numpy()"
   ]
  },
  {
   "cell_type": "code",
   "execution_count": 24,
   "metadata": {},
   "outputs": [
    {
     "data": {
      "text/plain": [
       "array([[0.000e+00, 2.035e+03, 1.530e+02, 5.000e+01, 2.000e+02, 3.000e+01,\n",
       "        1.000e+03, 4.000e+02, 9.000e+02, 2.400e+00, 1.300e+00, 9.000e+01,\n",
       "        1.500e+01, 1.500e+01, 1.200e+02, 9.000e-01, 8.000e+00, 4.000e+02,\n",
       "        1.100e+01, 7.000e+02, 5.500e+01, 3.400e+03, 1.500e+03, 5.500e+02,\n",
       "        1.200e+00, 1.300e+00, 1.600e+01, 1.600e+00]])"
      ]
     },
     "execution_count": 24,
     "metadata": {},
     "output_type": "execute_result"
    }
   ],
   "source": [
    "target_values = food_data.iloc[24:,2].to_numpy().astype(float).reshape(1,-1)\n",
    "target_values"
   ]
  },
  {
   "cell_type": "code",
   "execution_count": 25,
   "metadata": {},
   "outputs": [
    {
     "data": {
      "text/plain": [
       "array([[3.  , 0.3 , 0.3 , 5.  , 1.5 , 1.  , 0.5 , 1.5 , 0.25, 0.5 , 0.5 ,\n",
       "        0.5 , 0.5 , 0.1 , 1.4 , 1.  , 2.1 , 0.1 , 2.3 , 0.21]])"
      ]
     },
     "execution_count": 25,
     "metadata": {},
     "output_type": "execute_result"
    }
   ],
   "source": [
    "food_limits = food_data.iloc[24:44,6].to_numpy().reshape(1,-1)\n",
    "food_limits"
   ]
  },
  {
   "cell_type": "code",
   "execution_count": 26,
   "metadata": {},
   "outputs": [
    {
     "data": {
      "text/plain": [
       "array([[0.  , 0.  , 0.  , 0.  , 0.  , 0.  , 0.  , 1.  , 0.  , 0.  , 0.  ,\n",
       "        0.  , 0.  , 0.  , 0.9 , 0.  , 0.  , 0.  , 2.25, 0.2 ]])"
      ]
     },
     "execution_count": 26,
     "metadata": {},
     "output_type": "execute_result"
    }
   ],
   "source": [
    "food_req = food_data.iloc[24:44,9].to_numpy().reshape(1,-1)\n",
    "food_req"
   ]
  },
  {
   "cell_type": "code",
   "execution_count": 18,
   "metadata": {},
   "outputs": [
    {
     "ename": "OverflowError",
     "evalue": "(34, 'Result too large')",
     "output_type": "error",
     "traceback": [
      "\u001b[1;31m---------------------------------------------------------------------------\u001b[0m",
      "\u001b[1;31mOverflowError\u001b[0m                             Traceback (most recent call last)",
      "\u001b[1;32m<ipython-input-18-0d088a57b7d3>\u001b[0m in \u001b[0;36m<module>\u001b[1;34m\u001b[0m\n\u001b[0;32m     23\u001b[0m \u001b[1;33m\u001b[0m\u001b[0m\n\u001b[0;32m     24\u001b[0m     \u001b[0moutputs\u001b[0m \u001b[1;33m=\u001b[0m \u001b[0mnp\u001b[0m\u001b[1;33m.\u001b[0m\u001b[0mdot\u001b[0m\u001b[1;33m(\u001b[0m\u001b[0mamounts\u001b[0m\u001b[1;33m,\u001b[0m \u001b[0mquality_rates\u001b[0m\u001b[1;33m)\u001b[0m\u001b[1;33m\u001b[0m\u001b[1;33m\u001b[0m\u001b[0m\n\u001b[1;32m---> 25\u001b[1;33m     \u001b[0merror\u001b[0m \u001b[1;33m=\u001b[0m \u001b[1;33m(\u001b[0m\u001b[1;33m(\u001b[0m\u001b[0moutputs\u001b[0m \u001b[1;33m-\u001b[0m \u001b[0mtarget_values_non_z\u001b[0m\u001b[1;33m)\u001b[0m\u001b[1;33m/\u001b[0m\u001b[0mtarget_values_non_z\u001b[0m\u001b[1;33m)\u001b[0m\u001b[1;33m**\u001b[0m\u001b[1;36m2\u001b[0m\u001b[1;33m\u001b[0m\u001b[1;33m\u001b[0m\u001b[0m\n\u001b[0m\u001b[0;32m     26\u001b[0m     \u001b[0merror\u001b[0m\u001b[1;33m[\u001b[0m\u001b[1;36m0\u001b[0m\u001b[1;33m,\u001b[0m\u001b[1;36m0\u001b[0m\u001b[1;33m]\u001b[0m \u001b[1;33m=\u001b[0m \u001b[1;36m0\u001b[0m\u001b[1;33m\u001b[0m\u001b[1;33m\u001b[0m\u001b[0m\n\u001b[0;32m     27\u001b[0m     \u001b[0merror\u001b[0m\u001b[1;33m[\u001b[0m\u001b[1;36m0\u001b[0m\u001b[1;33m,\u001b[0m\u001b[1;36m2\u001b[0m\u001b[1;33m:\u001b[0m\u001b[1;33m]\u001b[0m\u001b[1;33m[\u001b[0m\u001b[0moutputs\u001b[0m\u001b[1;33m[\u001b[0m\u001b[1;36m0\u001b[0m\u001b[1;33m,\u001b[0m\u001b[1;36m2\u001b[0m\u001b[1;33m:\u001b[0m\u001b[1;33m]\u001b[0m \u001b[1;33m>=\u001b[0m \u001b[0mtarget_values\u001b[0m\u001b[1;33m[\u001b[0m\u001b[1;36m0\u001b[0m\u001b[1;33m,\u001b[0m\u001b[1;36m2\u001b[0m\u001b[1;33m:\u001b[0m\u001b[1;33m]\u001b[0m\u001b[1;33m]\u001b[0m \u001b[1;33m=\u001b[0m \u001b[1;36m0.0\u001b[0m\u001b[1;33m\u001b[0m\u001b[1;33m\u001b[0m\u001b[0m\n",
      "\u001b[1;31mOverflowError\u001b[0m: (34, 'Result too large')"
     ]
    }
   ],
   "source": [
    "#amounts = np.random.rand(1,20) * 10\n",
    "amounts = np.zeros((1,20))\n",
    "#amounts[0,0] = 14\n",
    "learning_rate = 1\n",
    "#starting_learning_rate = .01\n",
    "learning_rate_decay = 0#0.0000001\n",
    "errors = []\n",
    "\n",
    "dinputs_momentums = np.zeros_like(amounts)\n",
    "cache = np.zeros_like(amounts)\n",
    "epsilon = 1e-7 \n",
    "\n",
    "beta_1 = .9\n",
    "beta_2 = .999\n",
    "\n",
    "lambda_penalty = .05\n",
    "penalty_cache = np.zeros_like(amounts)\n",
    "\n",
    "target_values_non_z = target_values.copy()\n",
    "target_values_non_z[0,0] = 1e-7\n",
    "\n",
    "for i in range(10000):\n",
    "\n",
    "    outputs = np.dot(amounts, quality_rates)\n",
    "    error = ((outputs - target_values_non_z)/target_values_non_z)**2         \n",
    "    error[0,0] = 0 #we still calculate derivative, but exclude the error for cost\n",
    "    error[0,2:][outputs[0,2:] >= target_values[0,2:]] = 0.0\n",
    "    errors.append(np.sum(error))\n",
    "\n",
    "    penalty_deriv = np.zeros_like(amounts)\n",
    "    penalty_deriv[amounts.copy() > food_limits.copy()] = 1\n",
    "    penalty_deriv[amounts.copy() < food_req.copy()] = -1\n",
    "    penalty_deriv = penalty_deriv * food_limits.copy()\n",
    "\n",
    "    dloss = 2*(outputs - target_values_non_z)/target_values_non_z**2\n",
    "    dmax = np.ones_like(outputs)\n",
    "\n",
    "    #we are looking to stay calorie target, and minimize costs, so want to avoid those\n",
    "    #but once all the other ones have hit their goals, set them to 0\n",
    "    #dmax[0,1] = 0 if outputs[0,1] <= target_values[0,1] else dmax[0,1]\n",
    "    dmax[0,0] = 0\n",
    "    dmax[0,2:][outputs[0,2:] >= target_values[0,2:]] = 0.0\n",
    "    \n",
    "    dfoods = dloss * dmax\n",
    "    dinputs = np.dot(dfoods, quality_rates.T)\n",
    "\n",
    "    #momentum\n",
    "    dinputs_momentums = dinputs_momentums * beta_1 + dinputs.astype(float) * (1 - beta_1)\n",
    "    correted_momentums = dinputs_momentums / (1 - beta_1 ** (i + 1))\n",
    "\n",
    "    cache = cache * dinputs.astype(float) ** 2 #beta_2 + (1-beta_2) * dinputs.astype(float) ** 2\n",
    "    corrected_cahce = cache #/ (1 - beta_2 ** (i + 1))\n",
    "    penalty_cache += penalty_deriv **2\n",
    "    \n",
    "    amounts += -learning_rate * (correted_momentums / (np.sqrt(cache) + epsilon)  + lambda_penalty * penalty_deriv * 1/np.sqrt(penalty_cache+epsilon))\n",
    "\n",
    "    learning_rate = learning_rate * (1 / (1 + learning_rate_decay * i))\n",
    "\n",
    "results = np.dot(amounts, quality_rates)\n",
    "print(results)\n",
    "print(results - target_values)\n",
    "print(\"final error:\", errors[-1])\n",
    "plt.plot(errors[0:])\n",
    "plt.show()"
   ]
  },
  {
   "cell_type": "code",
   "execution_count": 11,
   "metadata": {},
   "outputs": [
    {
     "data": {
      "text/plain": [
       "array([[ 0. ,  0. ,  0. ,  0. ,  0. ,  0. ,  0. ,  0. ,  0. ,  0. ,  0. ,\n",
       "         0. ,  0. ,  0. ,  0. ,  0. ,  0. ,  0. , -2.3,  0. ]])"
      ]
     },
     "execution_count": 11,
     "metadata": {},
     "output_type": "execute_result"
    }
   ],
   "source": [
    "penalty_deriv = np.zeros_like(amounts)\n",
    "penalty_deriv[amounts.copy() > food_limits.copy()] = 1\n",
    "penalty_deriv[amounts.copy() < food_req.copy()] = -1\n",
    "penalty_deriv = penalty_deriv * food_limits.copy()\n",
    "penalty_deriv"
   ]
  },
  {
   "cell_type": "code",
   "execution_count": 12,
   "metadata": {},
   "outputs": [
    {
     "data": {
      "text/plain": [
       "array([[2.06917488, 0.29789464, 0.2239849 , 2.91855552, 1.47326141,\n",
       "        0.95078389, 0.48694994, 1.47945588, 0.2478282 , 0.4768447 ,\n",
       "        0.48264619, 0.47516851, 0.48899912, 0.09696531, 1.22059628,\n",
       "        0.98756274, 1.98092781, 0.09659181, 2.16728902, 0.20701223]])"
      ]
     },
     "execution_count": 12,
     "metadata": {},
     "output_type": "execute_result"
    }
   ],
   "source": [
    "amounts"
   ]
  },
  {
   "cell_type": "code",
   "execution_count": 1174,
   "metadata": {},
   "outputs": [
    {
     "data": {
      "text/plain": [
       "array([[0, 1, 0.0, 0.0, 1, 0.0, 0.0, 0.0, 0.0, 0.0, 0.0, 0.0, 0.0, 0.0,\n",
       "        0.0, 0.0, 0.0, 0.0, 0.0, 0.0, 0.0, 0.0, 0.0, 1, 0.0, 0.0, 0.0,\n",
       "        0.0]], dtype=object)"
      ]
     },
     "execution_count": 1174,
     "metadata": {},
     "output_type": "execute_result"
    }
   ],
   "source": [
    "dmax"
   ]
  },
  {
   "cell_type": "markdown",
   "metadata": {},
   "source": [
    "Notes from this go around:\n",
    "- have been successful in closely matching excel output\n",
    "- requires averaging gradients (dividing dloss by sum of dmax)\n",
    "- without cost constraint we get very close to solver results\n",
    "- with cost constaint it is close, but a bit more different\n",
    "- ideal learning rate  learning_rate = .00001\n",
    "\n",
    "Possible Improvements\n",
    "- RMS prop?/ADA grad?? - i think the key will be some type of per-parameter learning rate, as the parameters have very differnet sizes, thus a global rate does not work well. For example, applying the same learning rate to calories and omega3s doesn't work because calories has much higher magnitude values than omega3\n",
    "- momentum\n",
    "- adaptive gradient\n",
    "- learning rate decay\n",
    "\n",
    "Features that I don't think are very helpful (pre-adagrad/RMS prop):\n",
    "- gradient normalization - does not seem to make a huge difference. I think this is not very beneficial because there is nothing really to smooth out. We are stochastically descending the gradient and don't have batches. \n",
    "- learning rate decay - does not seem to help. The varying magnitude of parameters remove the effectiveness of learning rate decay because we are using a uniform decay rate. Thus suffers from same issue as uniform learning rate\n",
    "- momentum"
   ]
  },
  {
   "cell_type": "markdown",
   "metadata": {},
   "source": [
    "After adding adagrad & rmsprop\n",
    "- we get to a local minimum quite quickly, which is close to excel solver solution => and if parameters are set accordinly, can get very similar solutions between RMSprop and ada grad\n",
    "- ada grad does best with learning rate of 1, RMS .001. Same lrd\n",
    "- perhaps try adam next. But I am starting to think this is probably the most optimal solution we will get"
   ]
  },
  {
   "cell_type": "markdown",
   "metadata": {},
   "source": [
    "Further Updates:\n",
    "- have added Adam, it works ok, I think a little better than plain RMS prop/ada\n",
    "- instead of resetting amounts each time, I am now trying to do constrained optimization\n",
    "- it does not work very well right now. Possible improvements/Considerations:\n",
    "1) Don't think it should be included within the cache or momentum EWMAs\n",
    "2) The penalty term, lambda, should be scaled somehow, because we are dealing with values of different magnitudes\n"
   ]
  },
  {
   "cell_type": "markdown",
   "metadata": {},
   "source": [
    "Further thoughts:\n",
    "- Combine relative squared error with adagrad? There might be something here, but garlic keeps getting stuck too high, so need to do some more work around penalization\n",
    "- need a better way to make penalization relative. Current method is to scale it by 1/(1+i*iteraion)"
   ]
  },
  {
   "cell_type": "markdown",
   "metadata": {},
   "source": [
    "Current Best Parameters for Squared Error\n",
    "- lr = 1, decay = 0, adagrad, 1/(i + 1) penalty scaling, penalty term = 20, beta = .99; however we do run into an issue where chia seeds are higher than desired by about 5g\n",
    "- new best are below"
   ]
  },
  {
   "cell_type": "code",
   "execution_count": 27,
   "metadata": {},
   "outputs": [
    {
     "name": "stdout",
     "output_type": "stream",
     "text": [
      "[[13.99229856399297 2036.128210358288 181.17861695042538\n",
      "  61.09182137485768 196.0422201955804 35.03674465977529 998.4184579845352\n",
      "  411.61047855241543 1303.4252919262087 7.230408807165557\n",
      "  4.5854561432534675 260.5952978785556 14.91096766864887\n",
      "  13.509640543792571 691.8554479172179 1.6285378348635609\n",
      "  13.036332039289162 631.2322092222271 13.836355721316908\n",
      "  2572.600398300314 254.39863142899483 4385.489580835273\n",
      "  3181.0094768236527 547.746971886002 1.7278817433823437\n",
      "  3.0653309054340703 52.382476675348926 2.6227576231613736]]\n",
      "[[13.99229856399297 1.1282103582880154 28.17861695042538\n",
      "  11.09182137485768 -3.9577798044196015 5.036744659775287\n",
      "  -1.5815420154648336 11.61047855241543 403.42529192620873\n",
      "  4.830408807165558 3.2854561432534677 170.59529787855558\n",
      "  -0.0890323313511292 -1.490359456207429 571.8554479172179\n",
      "  0.7285378348635608 5.036332039289162 231.23220922222708\n",
      "  2.8363557213169077 1872.6003983003138 199.39863142899483\n",
      "  985.489580835273 1681.0094768236527 -2.2530281139979706\n",
      "  0.5278817433823437 1.7653309054340702 36.382476675348926\n",
      "  1.0227576231613735]]\n",
      "final error: 26.429328048779265\n"
     ]
    },
    {
     "data": {
      "image/png": "[encoded data removed]",
      "text/plain": [
       "<Figure size 432x288 with 1 Axes>"
      ]
     },
     "metadata": {
      "needs_background": "light"
     },
     "output_type": "display_data"
    }
   ],
   "source": [
    "#amounts = np.random.rand(1,20) * 10\n",
    "amounts = np.zeros((1,20))\n",
    "#amounts[0,0] = 14\n",
    "learning_rate = 1\n",
    "#starting_learning_rate = .01\n",
    "learning_rate_decay = 0#0.0000000001\n",
    "errors = []\n",
    "\n",
    "dinputs_momentums = np.zeros_like(amounts)\n",
    "cache = np.zeros_like(amounts)\n",
    "epsilon = 1e-7 \n",
    "\n",
    "beta_1 = .99\n",
    "beta_2 = .9\n",
    "\n",
    "lambda_penalty = .05\n",
    "penalty_cache = np.zeros_like(amounts)\n",
    "\n",
    "for i in range(100000):\n",
    "\n",
    "    outputs = np.dot(amounts, quality_rates)\n",
    "    error = (outputs - target_values)**2\n",
    "    error[0,0] = 0\n",
    "    error[0,2:][outputs[0,2:] >= target_values[0,2:]] = 0.0\n",
    "    errors.append(np.sum(error))\n",
    "\n",
    "    penalty_deriv = np.zeros_like(amounts)\n",
    "    penalty_deriv[amounts.copy() > food_limits.copy()] = 1\n",
    "    penalty_deriv[amounts.copy() < food_req.copy()] = -1\n",
    "    penalty_deriv = penalty_deriv * food_limits.copy()\n",
    "\n",
    "    dloss = 2*(outputs - target_values)\n",
    "    dmax = np.ones_like(outputs)\n",
    "\n",
    "    #we are looking to stay calorie target, and minimize costs, so want to avoid those\n",
    "    #but once all the other ones have hit their goals, set them to 0\n",
    "    #dmax[0,1] = 0 if outputs[0,1] <= target_values[0,1] else dmax[0,1]\n",
    "    #dmax[0,0] = 0\n",
    "    dmax[0,2:][outputs[0,2:] >= target_values[0,2:]] = 0.0\n",
    "    \n",
    "    dfoods = dloss * dmax\n",
    "    dinputs = np.dot(dfoods, quality_rates.T)\n",
    "\n",
    "    #momentum\n",
    "    dinputs_momentums = dinputs_momentums * beta_1 + dinputs.astype(float) * (1 - beta_1)\n",
    "    correted_momentums = dinputs_momentums / (1 - beta_1 ** (i + 1))\n",
    "\n",
    "    cache = cache + dinputs.astype(float) ** 2#* beta_2 + (1-beta_2) * dinputs.astype(float) ** 2\n",
    "    corrected_cache = cache #/ (1 - beta_2 ** (i + 1))\n",
    "    penalty_cache += penalty_deriv **2\n",
    "    \n",
    "    amounts += -learning_rate * (correted_momentums / (np.sqrt(corrected_cache) + epsilon)  + lambda_penalty * penalty_deriv * 1/np.sqrt(penalty_cache+epsilon))\n",
    "\n",
    "    learning_rate = learning_rate * (1 / (1 + learning_rate_decay * i))\n",
    "\n",
    "results = np.dot(amounts, quality_rates)\n",
    "print(results)\n",
    "print((results - target_values))\n",
    "print(\"final error:\", errors[-1])\n",
    "plt.plot(errors[5000:])\n",
    "plt.show()"
   ]
  },
  {
   "cell_type": "code",
   "execution_count": 20,
   "metadata": {},
   "outputs": [
    {
     "data": {
      "text/plain": [
       "array([[0. , 0.3, 0. , 0. , 0. , 0. , 0.5, 1.5, 0. , 0. , 0. , 0. , 0. ,\n",
       "        0.1, 0. , 0. , 2.1, 0. , 0. , 0. ]])"
      ]
     },
     "execution_count": 20,
     "metadata": {},
     "output_type": "execute_result"
    }
   ],
   "source": [
    "penalty_deriv = np.zeros_like(amounts)\n",
    "penalty_deriv[amounts.copy() > food_limits.copy()] = 1\n",
    "penalty_deriv[amounts.copy() < food_req.copy()] = -1\n",
    "penalty_deriv = penalty_deriv * food_limits.copy()\n",
    "penalty_deriv"
   ]
  },
  {
   "cell_type": "code",
   "execution_count": 21,
   "metadata": {},
   "outputs": [
    {
     "data": {
      "text/plain": [
       "array([[2.94039465, 0.30011588, 0.15233841, 2.80127075, 1.49979092,\n",
       "        0.99974944, 0.50003206, 1.50000348, 0.24948297, 0.49972262,\n",
       "        0.49944849, 0.49985972, 0.49966698, 0.10000229, 0.60701259,\n",
       "        0.99964463, 2.26052232, 0.0999446 , 2.29904132, 0.20999295]])"
      ]
     },
     "execution_count": 21,
     "metadata": {},
     "output_type": "execute_result"
    }
   ],
   "source": [
    "amounts"
   ]
  },
  {
   "cell_type": "code",
   "execution_count": 130,
   "metadata": {},
   "outputs": [
    {
     "data": {
      "text/plain": [
       "array([[1, 1, 0.0, 0.0, 1, 0.0, 1, 0.0, 0.0, 0.0, 0.0, 0.0, 1, 0.0, 0.0,\n",
       "        0.0, 0.0, 0.0, 0.0, 0.0, 0.0, 0.0, 0.0, 1, 0.0, 0.0, 0.0, 0.0]],\n",
       "      dtype=object)"
      ]
     },
     "execution_count": 130,
     "metadata": {},
     "output_type": "execute_result"
    }
   ],
   "source": [
    "dmax"
   ]
  },
  {
   "cell_type": "code",
   "execution_count": null,
   "metadata": {},
   "outputs": [],
   "source": []
  }
 ],
 "metadata": {
  "kernelspec": {
   "display_name": "base",
   "language": "python",
   "name": "python3"
  },
  "language_info": {
   "codemirror_mode": {
    "name": "ipython",
    "version": 3
   },
   "file_extension": ".py",
   "mimetype": "text/x-python",
   "name": "python",
   "nbconvert_exporter": "python",
   "pygments_lexer": "ipython3",
   "version": "3.7.16"
  }
 },
 "nbformat": 4,
 "nbformat_minor": 2
}
